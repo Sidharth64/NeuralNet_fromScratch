{
  "nbformat": 4,
  "nbformat_minor": 0,
  "metadata": {
    "colab": {
      "name": "NeuralNetworkClassifier.ipynb",
      "version": "0.3.2",
      "provenance": []
    },
    "kernelspec": {
      "name": "python3",
      "display_name": "Python 3"
    },
    "accelerator": "GPU"
  },
  "cells": [
    {
      "metadata": {
        "id": "6WVlKb1uiLBa",
        "colab_type": "code",
        "outputId": "29170047-dcbb-4dbc-93c1-89bca6f09e1a",
        "colab": {
          "base_uri": "https://localhost:8080/",
          "height": 102
        }
      },
      "cell_type": "code",
      "source": [
        "!git clone https://github.com/Sidharth64/neura"
      ],
      "execution_count": 0,
      "outputs": [
        {
          "output_type": "stream",
          "text": [
            "Cloning into 'neura'...\n",
            "remote: Counting objects: 36, done.\u001b[K\n",
            "remote: Compressing objects: 100% (34/34), done.\u001b[K\n",
            "remote: Total 36 (delta 23), reused 0 (delta 0), pack-reused 0\u001b[K\n",
            "Unpacking objects: 100% (36/36), done.\n"
          ],
          "name": "stdout"
        }
      ]
    },
    {
      "metadata": {
        "id": "T53xHJ2c3Dvm",
        "colab_type": "code",
        "colab": {}
      },
      "cell_type": "code",
      "source": [
        "import numpy as np\n",
        "\n",
        "class NeuralNetwork():\n",
        "  def __init__(self,input_size, output_size, hidden_layer_sizes,activation):\n",
        "    \n",
        "    #parameters\n",
        "    self.inputSize = input_size\n",
        "    self.outputSize = output_size\n",
        "    self.hiddenSize= hidden_layer_sizes\n",
        "    self.activation=activation\n",
        "  \n",
        "    #weights\n",
        "    self.W1 = np.random.randn(self.inputSize, self.hiddenSize)*.1\n",
        "    self.B1 = np.zeros((1,self.hiddenSize))\n",
        "    self.W2 = np.random.randn(self.hiddenSize, self.outputSize)*.1 \n",
        "    self.B2 = np.zeros((1,self.outputSize))\n",
        "  \n",
        "  def activate(self, s,activation):\n",
        "    # activation function\n",
        "    \n",
        "    if activation=='logistic':\n",
        "      return 1/(1+np.exp(-s))\n",
        "    if activation=='tanh':\n",
        "      return np.tanh(-s)\n",
        "    if activation=='relu':\n",
        "      return np.maximum(s,0)\n",
        "  \n",
        "  def backprop_activation(self, s,activation):\n",
        "    #dervative\n",
        "    \n",
        "    if activation=='logistic':\n",
        "      return s * (1 - s)\n",
        "    if activation=='tanh':\n",
        "      return (1-(s**2))\n",
        "    if activation=='relu':\n",
        "      s[s<0]=0\n",
        "      return s\n",
        "\n",
        "  \n",
        "  def train (self, X, y,bs,initial_lr,max_iterations):  #bs denotes batch_size\n",
        "    \n",
        "    j=0\n",
        "    m=0\n",
        "    number_of_iterations=[]\n",
        "    losses=[]\n",
        "    for i in range(max_iterations):\n",
        "      \n",
        "      lr=initial_lr/((i+1)**0.5)\n",
        "      out= self.forward(X[bs*(i-j) : bs*(i+1-j), :])\n",
        "      \n",
        "      \n",
        "      if ((i+1-j)*bs <= X.shape[0]) :\n",
        "        self.backward(X[bs*(i-j) : bs*(i+1-j), :] , y[bs*(i-j) : bs*(i+1-j), :],out,lr)\n",
        "      \n",
        "      else:\n",
        "        self.backward(X[bs*(i-j) : , :] , y[bs*(i-j) :, :],out,lr)\n",
        "        \n",
        "      \n",
        "      \n",
        "      if ((i+1-j)*bs >= X.shape[0]) :\n",
        "        \n",
        "        loss=np.mean(np.sum(np.square(y - self.forward(X)),axis=1))\n",
        "        number_of_iterations.append(i)\n",
        "        losses.append(loss)\n",
        "        j=i+1\n",
        "        m=m+1\n",
        "    #plot\n",
        "    \n",
        "    import matplotlib.pyplot as plt\n",
        "    plt.plot(number_of_iterations,losses)\n",
        "    plt.ylabel('Mean Square Loss')\n",
        "    plt.xlabel('Number Of iterations')\n",
        "    plt.show()\n",
        "    \n",
        "  \n",
        "  \n",
        "  def forward(self, X):\n",
        "    #forward propagation\n",
        "    \n",
        "    self.z = np.dot(X, self.W1) + self.B1  \n",
        "    self.z2 = self.activate(self.z,self.activation) \n",
        "    self.z3 = np.dot(self.z2, self.W2) + self.B2\n",
        "    o = self.activate(self.z3,'logistic') \n",
        "    self.sum=o.sum(axis=1, keepdims=True)\n",
        "    out=o/o.sum(axis=1, keepdims=True)\n",
        "    return out \n",
        "  \n",
        "  def backward(self, X, y,o,lr):\n",
        "    # backward propgate \n",
        "    \n",
        "    self.o_error = (y - o)*(2/(X.shape[0])) \n",
        "    self.o_delta = self.o_error*self.backprop_activation(o,'logistic')*(1-(o*self.sum))  # applying derivative of softmaxed sigmoid to error\n",
        "\n",
        "    self.z2_error = self.o_delta.dot(self.W2.T) \n",
        "    self.z2_delta = self.z2_error*self.backprop_activation(self.z2,self.activation)   \n",
        "    \n",
        "    reg_lambda=0.0001\n",
        "    self.W1 += lr*(X.T.dot(self.z2_delta) - reg_lambda*self.W1)              \n",
        "    self.W2 += lr*(self.z2.T.dot(self.o_delta) -  reg_lambda*self.W2)          \n",
        "    \n",
        "    self.B2 -= lr*np.sum(self.o_delta, axis = 0, keepdims = True)\n",
        "    self.B1 -= lr*np.sum(self.z2_delta, axis=0 , keepdims=True)\n",
        "    \n",
        "    \n",
        "  def predict(self,X):\n",
        "    output=self.forward(X)\n",
        "    prediction=np.argmax(output,axis=1)\n",
        "    return prediction"
      ],
      "execution_count": 0,
      "outputs": []
    },
    {
      "metadata": {
        "id": "MSPwLRn5iQkC",
        "colab_type": "code",
        "outputId": "875e35ad-36b8-4e2d-b4e3-fed1265c816f",
        "colab": {
          "base_uri": "https://localhost:8080/",
          "height": 34
        }
      },
      "cell_type": "code",
      "source": [
        "import pandas as pd\n",
        "df=pd.read_csv('neura/newdata.csv')\n",
        "df1=pd.read_csv('neura/newdata1.csv')\n",
        "df2=pd.read_csv('neura/newdata2.csv')\n",
        "df3=pd.read_csv('neura/newdata3.csv')\n",
        "df4=pd.read_csv('neura/newdata4.csv')\n",
        "df5=pd.read_csv('neura/newdata5.csv')\n",
        "df6=pd.read_csv('neura/newdata6.csv')\n",
        "df7=pd.read_csv('neura/newdata7.csv')\n",
        "df8=pd.read_csv('neura/newdata8.csv')\n",
        "df9=pd.read_csv('neura/newdata9.csv')\n",
        "df10=pd.read_csv('neura/newdata10.csv')\n",
        "df11=pd.read_csv('neura/newdata11.csv')\n",
        "df12=pd.read_csv('neura/newdata12.csv')\n",
        "df13=pd.read_csv('neura/newdata13.csv')\n",
        "df14=pd.read_csv('neura/newdata14.csv')\n",
        "df15=pd.read_csv('neura/newdata15.csv')\n",
        "\n",
        "#d=sum of all dfs\n",
        "frames=[df,df1,df2,df3,df4,df5,df6,df7,df8,df9,df10,df11,df12,df13,df14,df15]\n",
        "d = pd.concat(frames)\n",
        "finald=d.iloc[:,2:1027]\n",
        "\n",
        "X=finald.values\n",
        "\n",
        "y=d.iloc[:,1:2]\n",
        "\n",
        "Y=y.values\n",
        "from keras.utils import to_categorical\n",
        "encoded_y=to_categorical(Y)\n",
        "\n",
        "#preprocess\n",
        "X=np.true_divide(X, 255)\n",
        "\n",
        "\n",
        "\n",
        "from sklearn.model_selection import train_test_split\n",
        "X_train, X_valid, y_train, y_valid = train_test_split(X, encoded_y, test_size=0.1)"
      ],
      "execution_count": 0,
      "outputs": [
        {
          "output_type": "stream",
          "text": [
            "Using TensorFlow backend.\n"
          ],
          "name": "stderr"
        }
      ]
    },
    {
      "metadata": {
        "id": "GORMU1PFVgia",
        "colab_type": "code",
        "outputId": "786164b9-90c8-45a4-98fd-ebb011dcbdcf",
        "colab": {
          "base_uri": "https://localhost:8080/",
          "height": 361
        }
      },
      "cell_type": "code",
      "source": [
        "a = NeuralNetwork(1024,46,300,'logistic')\n",
        "a.train(X_train,y_train,50,20,200000)\n",
        "\n"
      ],
      "execution_count": 0,
      "outputs": [
        {
          "output_type": "display_data",
          "data": {
            "image/png": "[encoded data removed]",
            "text/plain": [
              "<matplotlib.figure.Figure at 0x7f51c389bd30>"
            ]
          },
          "metadata": {
            "tags": []
          }
        }
      ]
    },
    {
      "metadata": {
        "id": "vHK5uMOzPm64",
        "colab_type": "code",
        "outputId": "bdd4c330-fd7d-4721-fb2c-72588d79e755",
        "colab": {
          "base_uri": "https://localhost:8080/",
          "height": 51
        }
      },
      "cell_type": "code",
      "source": [
        "predictions=a.predict(X_valid)\n",
        "\n",
        "Y_valid=np.argmax(y_valid,axis=1)\n",
        "\n",
        "k=0\n",
        "for i in range(len(predictions)):\n",
        "  if predictions[i]==Y_valid[i]:\n",
        "    \n",
        "    k=k+1\n",
        "    \n",
        "print (\"Validation accuracy : \" )    \n",
        "print(k/len(predictions))"
      ],
      "execution_count": 0,
      "outputs": [
        {
          "output_type": "stream",
          "text": [
            "Validation accuracy : \n",
            "0.8562659846547315\n"
          ],
          "name": "stdout"
        }
      ]
    },
    {
      "metadata": {
        "id": "zDH6wRt_7iHo",
        "colab_type": "code",
        "colab": {}
      },
      "cell_type": "code",
      "source": [
        "testdf=pd.read_csv('neura/devnagri_test_public.csv')\n",
        "finaltest_df=testdf.iloc[:,1:1027]\n",
        "\n",
        "X_test=finaltest_df.values\n",
        "\n",
        "#preprocess\n",
        "X_test=np.true_divide(X_test, 255)\n",
        "\n",
        "test_predictions=a.predict(X_test)\n"
      ],
      "execution_count": 0,
      "outputs": []
    },
    {
      "metadata": {
        "id": "cD-62s179tFK",
        "colab_type": "code",
        "outputId": "0cd6c60e-0252-4b37-cb6f-3c49331040b3",
        "colab": {
          "base_uri": "https://localhost:8080/",
          "height": 34
        }
      },
      "cell_type": "code",
      "source": [
        "print(test_predictions)"
      ],
      "execution_count": 0,
      "outputs": [
        {
          "output_type": "stream",
          "text": [
            "[45 11  6 ...  6 12 15]\n"
          ],
          "name": "stdout"
        }
      ]
    }
  ]
}